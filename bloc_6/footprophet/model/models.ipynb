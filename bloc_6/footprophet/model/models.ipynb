{
 "cells": [
  {
   "cell_type": "code",
   "execution_count": 10,
   "metadata": {},
   "outputs": [],
   "source": [
    "import pandas as pd\n",
    "import numpy as np\n",
    "import seaborn as sns\n",
    "from sklearn.metrics import classification_report, confusion_matrix, accuracy_score, f1_score\n",
    "from sklearn.model_selection import train_test_split\n",
    "import matplotlib.pyplot as plt\n",
    "\n",
    "def evaluate(y,y_hat,labels):\n",
    "  print(classification_report(y,y_hat))\n",
    "  cm = confusion_matrix(y,y_hat,normalize='true')\n",
    "  cmat = pd.DataFrame(cm)\n",
    "  cmat.columns = labels\n",
    "  sns.heatmap(cmat,cmap=\"YlGnBu\", annot=True)\n",
    "  plt.title(\"Confusion Matrix\")\n",
    "\n",
    "# 0 : DRAW, 1 : HOME WIN, 2: AWAY WIN\n",
    "df = pd.read_csv('../data/games_data.csv') \n",
    "df = df.drop(['odds_home', 'odds_away', 'odds_draw'], axis=1)"
   ]
  },
  {
   "cell_type": "code",
   "execution_count": 5,
   "metadata": {},
   "outputs": [
    {
     "data": {
      "text/plain": [
       "1    45.068600\n",
       "2    29.657434\n",
       "0    25.273967\n",
       "Name: result, dtype: float64"
      ]
     },
     "execution_count": 5,
     "metadata": {},
     "output_type": "execute_result"
    }
   ],
   "source": [
    "x = df[[x for x in df.columns if x != 'result']]\n",
    "y = df['result']\n",
    "(y.value_counts()/y.shape[0])*100"
   ]
  },
  {
   "cell_type": "code",
   "execution_count": 6,
   "metadata": {},
   "outputs": [],
   "source": [
    "x = df[[x for x in df.columns if x != 'result']]\n",
    "y = df['result']\n",
    "\n",
    "# nomalize the data (is this necessary)\n",
    "column_maxes = x.max()\n",
    "x_max = column_maxes.max()\n",
    "normalized_x = x / x_max\n",
    "\n",
    "x_train, x_test, y_train, y_test = train_test_split(normalized_x, y, test_size=0.2, random_state=42, stratify=y)"
   ]
  },
  {
   "cell_type": "code",
   "execution_count": 24,
   "metadata": {},
   "outputs": [
    {
     "name": "stdout",
     "output_type": "stream",
     "text": [
      "Accuracy on train is : 45.07%\n",
      "Accuracy on test is  : 45.06%\n",
      "              precision    recall  f1-score   support\n",
      "\n",
      "           0       0.00      0.00      0.00      1172\n",
      "           1       0.45      1.00      0.62      2089\n",
      "           2       0.00      0.00      0.00      1375\n",
      "\n",
      "    accuracy                           0.45      4636\n",
      "   macro avg       0.15      0.33      0.21      4636\n",
      "weighted avg       0.20      0.45      0.28      4636\n",
      "\n",
      "f1_score_train 28.01\n",
      "f1_score_test 27.99\n"
     ]
    },
    {
     "name": "stderr",
     "output_type": "stream",
     "text": [
      "/Users/ycammarata/miniforge3/lib/python3.9/site-packages/sklearn/metrics/_classification.py:1308: UndefinedMetricWarning: Precision and F-score are ill-defined and being set to 0.0 in labels with no predicted samples. Use `zero_division` parameter to control this behavior.\n",
      "  _warn_prf(average, modifier, msg_start, len(result))\n",
      "/Users/ycammarata/miniforge3/lib/python3.9/site-packages/sklearn/metrics/_classification.py:1308: UndefinedMetricWarning: Precision and F-score are ill-defined and being set to 0.0 in labels with no predicted samples. Use `zero_division` parameter to control this behavior.\n",
      "  _warn_prf(average, modifier, msg_start, len(result))\n",
      "/Users/ycammarata/miniforge3/lib/python3.9/site-packages/sklearn/metrics/_classification.py:1308: UndefinedMetricWarning: Precision and F-score are ill-defined and being set to 0.0 in labels with no predicted samples. Use `zero_division` parameter to control this behavior.\n",
      "  _warn_prf(average, modifier, msg_start, len(result))\n"
     ]
    },
    {
     "data": {
      "image/png": "[encoded data removed]",
      "text/plain": [
       "<Figure size 432x288 with 2 Axes>"
      ]
     },
     "metadata": {
      "needs_background": "light"
     },
     "output_type": "display_data"
    }
   ],
   "source": [
    "from sklearn.dummy import DummyClassifier\n",
    "\n",
    "classifier = DummyClassifier()\n",
    "classifier.fit(x_train, y_train)\n",
    "\n",
    "y_train_pred = classifier.predict(x_train)\n",
    "accuracy = accuracy_score(y_train, y_train_pred)\n",
    "print(\"Accuracy on train is : %.2f%%\" % (accuracy * 100.0))\n",
    "\n",
    "y_test_pred = classifier.predict(x_test)\n",
    "accuracy = accuracy_score(y_test, y_test_pred)\n",
    "print(\"Accuracy on test is  : %.2f%%\" % (accuracy * 100.0))\n",
    "\n",
    "evaluate(y_test, y_test_pred, {0,1,2})\n",
    "\n",
    "print('f1_score_train',round(f1_score(y_train, y_train_pred, average='weighted')*100,2))\n",
    "print('f1_score_test', round(f1_score(y_test, y_test_pred, average='weighted')*100,2))\n"
   ]
  },
  {
   "cell_type": "code",
   "execution_count": 8,
   "metadata": {},
   "outputs": [
    {
     "name": "stdout",
     "output_type": "stream",
     "text": [
      "Accuracy on train is : 52.03%\n",
      "Accuracy on test is : 50.56%\n",
      "              precision    recall  f1-score   support\n",
      "\n",
      "           0       0.25      0.00      0.00      1172\n",
      "           1       0.52      0.83      0.64      2089\n",
      "           2       0.46      0.45      0.46      1375\n",
      "\n",
      "    accuracy                           0.51      4636\n",
      "   macro avg       0.41      0.43      0.37      4636\n",
      "weighted avg       0.44      0.51      0.42      4636\n",
      "\n"
     ]
    },
    {
     "name": "stderr",
     "output_type": "stream",
     "text": [
      "/Users/ycammarata/miniforge3/lib/python3.9/site-packages/sklearn/neural_network/_multilayer_perceptron.py:549: ConvergenceWarning: lbfgs failed to converge (status=1):\n",
      "STOP: TOTAL NO. of ITERATIONS REACHED LIMIT.\n",
      "\n",
      "Increase the number of iterations (max_iter) or scale the data as shown in:\n",
      "    https://scikit-learn.org/stable/modules/preprocessing.html\n",
      "  self.n_iter_ = _check_optimize_result(\"lbfgs\", opt_res, self.max_iter)\n"
     ]
    },
    {
     "data": {
      "image/png": "[encoded data removed]",
      "text/plain": [
       "<Figure size 432x288 with 2 Axes>"
      ]
     },
     "metadata": {
      "needs_background": "light"
     },
     "output_type": "display_data"
    }
   ],
   "source": [
    "from sklearn.neural_network import MLPClassifier\n",
    "\n",
    "mlp_classifier = MLPClassifier(solver='lbfgs', max_iter=1000, alpha=0.05, learning_rate='constant')\n",
    "\n",
    "mlp_classifier.fit(x_train, y_train)\n",
    "\n",
    "y_train_pred = mlp_classifier.predict(x_train)\n",
    "accuracy = accuracy_score(y_train, y_train_pred)\n",
    "print(\"Accuracy on train is : %.2f%%\" % (accuracy * 100.0))\n",
    "\n",
    "y_test_pred = mlp_classifier.predict(x_test)\n",
    "accuracy = accuracy_score(y_test, y_test_pred)\n",
    "print(\"Accuracy on test is : %.2f%%\" % (accuracy * 100.0))\n",
    "\n",
    "evaluate(y_test, y_test_pred, {0,1,2})"
   ]
  },
  {
   "cell_type": "code",
   "execution_count": 169,
   "metadata": {},
   "outputs": [
    {
     "data": {
      "text/plain": [
       "' from sklearn.model_selection import GridSearchCV\\n\\nparameter_space = {\\n    \\'hidden_layer_sizes\\': [(50,50,50), (50,100,50), (100,)],\\n    \\'activation\\': [\\'tanh\\', \\'relu\\'],\\n    \\'alpha\\': [0.0001, 0.05],\\n    \\'learning_rate\\': [\\'constant\\',\\'adaptive\\'],\\n}\\n\\nclf = GridSearchCV(mlp_classifier, parameter_space, n_jobs=-1, cv=4)\\nclf.fit(x_train, y_train)\\n\\n# Best paramete set\\nprint(\\'Best parameters found:\\n\\', clf.best_params_)\\n\\n# All results\\nmeans = clf.cv_results_[\\'mean_test_score\\']\\nstds = clf.cv_results_[\\'std_test_score\\']\\nfor mean, std, params in zip(means, stds, clf.cv_results_[\\'params\\']):\\n    print(\"%0.3f (+/-%0.03f) for %r\" % (mean, std * 2, params))\\n\\n\\ny_true, y_pred = y_test , clf.predict(x_test)\\n\\nfrom sklearn.metrics import classification_report\\nprint(\\'Results on the test set:\\')\\nprint(classification_report(y_true, y_pred)) '"
      ]
     },
     "execution_count": 169,
     "metadata": {},
     "output_type": "execute_result"
    }
   ],
   "source": [
    "#####\n",
    "#### PROCESSING TIME is about 12 hours on Mac M1\n",
    "#### Best are  solver='lbfgs', max_iter=1000, alpha=0.05, learning_rate='constant')\n",
    "######\n",
    "\n",
    "\"\"\" from sklearn.model_selection import GridSearchCV\n",
    "\n",
    "parameter_space = {\n",
    "    'hidden_layer_sizes': [(50,50,50), (50,100,50), (100,)],\n",
    "    'activation': ['tanh', 'relu'],\n",
    "    'alpha': [0.0001, 0.05],\n",
    "    'learning_rate': ['constant','adaptive'],\n",
    "}\n",
    "\n",
    "clf = GridSearchCV(mlp_classifier, parameter_space, n_jobs=-1, cv=4)\n",
    "clf.fit(x_train, y_train)\n",
    "\n",
    "# Best paramete set\n",
    "print('Best parameters found:\\n', clf.best_params_)\n",
    "\n",
    "# All results\n",
    "means = clf.cv_results_['mean_test_score']\n",
    "stds = clf.cv_results_['std_test_score']\n",
    "for mean, std, params in zip(means, stds, clf.cv_results_['params']):\n",
    "    print(\"%0.3f (+/-%0.03f) for %r\" % (mean, std * 2, params))\n",
    "\n",
    "\n",
    "y_true, y_pred = y_test , clf.predict(x_test)\n",
    "\n",
    "from sklearn.metrics import classification_report\n",
    "print('Results on the test set:')\n",
    "print(classification_report(y_true, y_pred)) \"\"\""
   ]
  },
  {
   "cell_type": "code",
   "execution_count": 15,
   "metadata": {},
   "outputs": [
    {
     "name": "stdout",
     "output_type": "stream",
     "text": [
      "Accuracy on train is : 49.36%\n",
      "Accuracy on test is : 47.58%\n",
      "              precision    recall  f1-score   support\n",
      "\n",
      "           0       0.26      0.13      0.17      1172\n",
      "           1       0.58      0.59      0.58      2089\n",
      "           2       0.43      0.60      0.50      1375\n",
      "\n",
      "    accuracy                           0.48      4636\n",
      "   macro avg       0.42      0.44      0.42      4636\n",
      "weighted avg       0.45      0.48      0.45      4636\n",
      "\n"
     ]
    },
    {
     "data": {
      "image/png": "[encoded data removed]",
      "text/plain": [
       "<Figure size 432x288 with 2 Axes>"
      ]
     },
     "metadata": {
      "needs_background": "light"
     },
     "output_type": "display_data"
    }
   ],
   "source": [
    "from sklearn.linear_model import RidgeClassifier\n",
    "\n",
    "ridge_classifier = RidgeClassifier(class_weight='balanced', max_iter=10000, alpha=1.080001, solver='sag')\n",
    "ridge_classifier.fit(x_train, y_train)\n",
    "\n",
    "y_train_pred = ridge_classifier.predict(x_train)\n",
    "accuracy = accuracy_score(y_train, y_train_pred)\n",
    "print(\"Accuracy on train is : %.2f%%\" % (accuracy * 100.0))\n",
    "\n",
    "y_test_pred = ridge_classifier.predict(x_test)\n",
    "accuracy = accuracy_score(y_test, y_test_pred)\n",
    "print(\"Accuracy on test is : %.2f%%\" % (accuracy * 100.0))\n",
    "\n",
    "evaluate(y_test, y_test_pred, {0,1,2})"
   ]
  },
  {
   "cell_type": "markdown",
   "metadata": {},
   "source": []
  },
  {
   "cell_type": "code",
   "execution_count": 28,
   "metadata": {},
   "outputs": [
    {
     "name": "stdout",
     "output_type": "stream",
     "text": [
      "Accuracy on train is : 46.82%\n",
      "Accuracy on test is : 44.80%\n",
      "              precision    recall  f1-score   support\n",
      "\n",
      "           0       0.27      0.39      0.32      1172\n",
      "           1       0.62      0.49      0.55      2089\n",
      "           2       0.47      0.44      0.45      1375\n",
      "\n",
      "    accuracy                           0.45      4636\n",
      "   macro avg       0.45      0.44      0.44      4636\n",
      "weighted avg       0.48      0.45      0.46      4636\n",
      "\n"
     ]
    },
    {
     "data": {
      "image/png": "[encoded data removed]",
      "text/plain": [
       "<Figure size 432x288 with 2 Axes>"
      ]
     },
     "metadata": {
      "needs_background": "light"
     },
     "output_type": "display_data"
    }
   ],
   "source": [
    "from sklearn.svm import SVC\n",
    "\n",
    "svc_classifier = SVC(gamma=2, C=1, class_weight='balanced')\n",
    "svc_classifier.fit(x_train, y_train)\n",
    "\n",
    "y_train_pred = svc_classifier.predict(x_train)\n",
    "accuracy = accuracy_score(y_train, y_train_pred)\n",
    "print(\"Accuracy on train is : %.2f%%\" % (accuracy * 100.0))\n",
    "\n",
    "y_test_pred = svc_classifier.predict(x_test)\n",
    "accuracy = accuracy_score(y_test, y_test_pred)\n",
    "print(\"Accuracy on test is : %.2f%%\" % (accuracy * 100.0))\n",
    "\n",
    "evaluate(y_test, y_test_pred, {0,1,2})"
   ]
  },
  {
   "cell_type": "code",
   "execution_count": 90,
   "metadata": {},
   "outputs": [
    {
     "data": {
      "text/html": [
       "<div>\n",
       "<style scoped>\n",
       "    .dataframe tbody tr th:only-of-type {\n",
       "        vertical-align: middle;\n",
       "    }\n",
       "\n",
       "    .dataframe tbody tr th {\n",
       "        vertical-align: top;\n",
       "    }\n",
       "\n",
       "    .dataframe thead th {\n",
       "        text-align: right;\n",
       "    }\n",
       "</style>\n",
       "<table border=\"1\" class=\"dataframe\">\n",
       "  <thead>\n",
       "    <tr style=\"text-align: right;\">\n",
       "      <th></th>\n",
       "      <th>name</th>\n",
       "      <th>odds_home</th>\n",
       "      <th>odds_away</th>\n",
       "      <th>odds_draw</th>\n",
       "      <th>home_wins</th>\n",
       "      <th>home_draws</th>\n",
       "      <th>home_losses</th>\n",
       "      <th>home_goals</th>\n",
       "      <th>home_opposition_goals</th>\n",
       "      <th>home_shots</th>\n",
       "      <th>...</th>\n",
       "      <th>away_wins</th>\n",
       "      <th>away_draws</th>\n",
       "      <th>away_losses</th>\n",
       "      <th>away_goals</th>\n",
       "      <th>away_opposition_goals</th>\n",
       "      <th>away_shots</th>\n",
       "      <th>away_shots_on_target</th>\n",
       "      <th>away_opposition_shots</th>\n",
       "      <th>away_opposition_shots_on_target</th>\n",
       "      <th>league</th>\n",
       "    </tr>\n",
       "  </thead>\n",
       "  <tbody>\n",
       "    <tr>\n",
       "      <th>0</th>\n",
       "      <td>Southampton</td>\n",
       "      <td>2.256667</td>\n",
       "      <td>3.206667</td>\n",
       "      <td>3.433333</td>\n",
       "      <td>3.0</td>\n",
       "      <td>5.0</td>\n",
       "      <td>4.0</td>\n",
       "      <td>9.0</td>\n",
       "      <td>14.0</td>\n",
       "      <td>129.0</td>\n",
       "      <td>...</td>\n",
       "      <td>3.0</td>\n",
       "      <td>5.0</td>\n",
       "      <td>4.0</td>\n",
       "      <td>10.0</td>\n",
       "      <td>17.0</td>\n",
       "      <td>140.0</td>\n",
       "      <td>40.0</td>\n",
       "      <td>128.0</td>\n",
       "      <td>46.0</td>\n",
       "      <td>England</td>\n",
       "    </tr>\n",
       "    <tr>\n",
       "      <th>1</th>\n",
       "      <td>Man United</td>\n",
       "      <td>2.733333</td>\n",
       "      <td>3.983333</td>\n",
       "      <td>4.026667</td>\n",
       "      <td>5.0</td>\n",
       "      <td>2.0</td>\n",
       "      <td>5.0</td>\n",
       "      <td>19.0</td>\n",
       "      <td>21.0</td>\n",
       "      <td>160.0</td>\n",
       "      <td>...</td>\n",
       "      <td>4.0</td>\n",
       "      <td>2.0</td>\n",
       "      <td>5.0</td>\n",
       "      <td>14.0</td>\n",
       "      <td>20.0</td>\n",
       "      <td>149.0</td>\n",
       "      <td>49.0</td>\n",
       "      <td>154.0</td>\n",
       "      <td>52.0</td>\n",
       "      <td>England</td>\n",
       "    </tr>\n",
       "    <tr>\n",
       "      <th>2</th>\n",
       "      <td>Brentford</td>\n",
       "      <td>2.033333</td>\n",
       "      <td>4.150000</td>\n",
       "      <td>3.500000</td>\n",
       "      <td>3.0</td>\n",
       "      <td>3.0</td>\n",
       "      <td>5.0</td>\n",
       "      <td>14.0</td>\n",
       "      <td>19.0</td>\n",
       "      <td>123.0</td>\n",
       "      <td>...</td>\n",
       "      <td>3.0</td>\n",
       "      <td>3.0</td>\n",
       "      <td>5.0</td>\n",
       "      <td>14.0</td>\n",
       "      <td>17.0</td>\n",
       "      <td>127.0</td>\n",
       "      <td>47.0</td>\n",
       "      <td>132.0</td>\n",
       "      <td>49.0</td>\n",
       "      <td>England</td>\n",
       "    </tr>\n",
       "    <tr>\n",
       "      <th>3</th>\n",
       "      <td>Chelsea</td>\n",
       "      <td>1.322500</td>\n",
       "      <td>10.750000</td>\n",
       "      <td>5.562500</td>\n",
       "      <td>8.0</td>\n",
       "      <td>2.0</td>\n",
       "      <td>2.0</td>\n",
       "      <td>26.0</td>\n",
       "      <td>9.0</td>\n",
       "      <td>175.0</td>\n",
       "      <td>...</td>\n",
       "      <td>7.0</td>\n",
       "      <td>3.0</td>\n",
       "      <td>1.0</td>\n",
       "      <td>25.0</td>\n",
       "      <td>9.0</td>\n",
       "      <td>178.0</td>\n",
       "      <td>64.0</td>\n",
       "      <td>108.0</td>\n",
       "      <td>35.0</td>\n",
       "      <td>England</td>\n",
       "    </tr>\n",
       "    <tr>\n",
       "      <th>4</th>\n",
       "      <td>Crystal Palace</td>\n",
       "      <td>2.275000</td>\n",
       "      <td>3.275000</td>\n",
       "      <td>3.275000</td>\n",
       "      <td>3.0</td>\n",
       "      <td>6.0</td>\n",
       "      <td>3.0</td>\n",
       "      <td>18.0</td>\n",
       "      <td>14.0</td>\n",
       "      <td>129.0</td>\n",
       "      <td>...</td>\n",
       "      <td>3.0</td>\n",
       "      <td>6.0</td>\n",
       "      <td>3.0</td>\n",
       "      <td>17.0</td>\n",
       "      <td>15.0</td>\n",
       "      <td>128.0</td>\n",
       "      <td>42.0</td>\n",
       "      <td>123.0</td>\n",
       "      <td>47.0</td>\n",
       "      <td>England</td>\n",
       "    </tr>\n",
       "  </tbody>\n",
       "</table>\n",
       "<p>5 rows × 23 columns</p>\n",
       "</div>"
      ],
      "text/plain": [
       "             name  odds_home  odds_away  odds_draw  home_wins  home_draws  \\\n",
       "0     Southampton   2.256667   3.206667   3.433333        3.0         5.0   \n",
       "1      Man United   2.733333   3.983333   4.026667        5.0         2.0   \n",
       "2       Brentford   2.033333   4.150000   3.500000        3.0         3.0   \n",
       "3         Chelsea   1.322500  10.750000   5.562500        8.0         2.0   \n",
       "4  Crystal Palace   2.275000   3.275000   3.275000        3.0         6.0   \n",
       "\n",
       "   home_losses  home_goals  home_opposition_goals  home_shots  ...  away_wins  \\\n",
       "0          4.0         9.0                   14.0       129.0  ...        3.0   \n",
       "1          5.0        19.0                   21.0       160.0  ...        4.0   \n",
       "2          5.0        14.0                   19.0       123.0  ...        3.0   \n",
       "3          2.0        26.0                    9.0       175.0  ...        7.0   \n",
       "4          3.0        18.0                   14.0       129.0  ...        3.0   \n",
       "\n",
       "   away_draws  away_losses  away_goals  away_opposition_goals  away_shots  \\\n",
       "0         5.0          4.0        10.0                   17.0       140.0   \n",
       "1         2.0          5.0        14.0                   20.0       149.0   \n",
       "2         3.0          5.0        14.0                   17.0       127.0   \n",
       "3         3.0          1.0        25.0                    9.0       178.0   \n",
       "4         6.0          3.0        17.0                   15.0       128.0   \n",
       "\n",
       "   away_shots_on_target  away_opposition_shots  \\\n",
       "0                  40.0                  128.0   \n",
       "1                  49.0                  154.0   \n",
       "2                  47.0                  132.0   \n",
       "3                  64.0                  108.0   \n",
       "4                  42.0                  123.0   \n",
       "\n",
       "   away_opposition_shots_on_target   league  \n",
       "0                             46.0  England  \n",
       "1                             52.0  England  \n",
       "2                             49.0  England  \n",
       "3                             35.0  England  \n",
       "4                             47.0  England  \n",
       "\n",
       "[5 rows x 23 columns]"
      ]
     },
     "execution_count": 90,
     "metadata": {},
     "output_type": "execute_result"
    }
   ],
   "source": [
    "team_stats = pd.read_csv('england_stats.csv')\n",
    "team_stats.head()"
   ]
  },
  {
   "cell_type": "code",
   "execution_count": 139,
   "metadata": {},
   "outputs": [],
   "source": [
    "def get_result(predictor, HomeTeam, AwayTeam):\n",
    "   \n",
    "   home_stat = team_stats[team_stats['name']==HomeTeam][['home_wins',\n",
    "       'home_draws', 'home_losses', 'home_goals', 'home_opposition_goals',\n",
    "       'home_shots', 'home_shots_on_target', 'home_opposition_shots',\n",
    "       'home_opposition_shots_on_target']]\n",
    "\n",
    "   away_stat = team_stats[team_stats['name']==AwayTeam][['away_wins', 'away_draws',\n",
    "       'away_losses', 'away_goals', 'away_opposition_goals', 'away_shots',\n",
    "       'away_shots_on_target', 'away_opposition_shots',\n",
    "       'away_opposition_shots_on_target']]\n",
    "\n",
    "   stats = np.concatenate((home_stat.values.reshape(-1), away_stat.values.reshape(-1)))\n",
    "   #stats = np.concatenate((home_stat.values.reshape(-1), home_stat.values.reshape(-1)))\n",
    "\n",
    "   #stats = stats/x_max\n",
    "   \n",
    "   result = predictor.predict([stats])[0]\n",
    "\n",
    "   print(predictor.predict_proba([stats]))\n",
    "\n",
    "   if (result==0):\n",
    "      return 'D'\n",
    "\n",
    "   if (result==1):\n",
    "      return 'H'\n",
    "\n",
    "   return'A'\n",
    "    "
   ]
  },
  {
   "cell_type": "code",
   "execution_count": 137,
   "metadata": {},
   "outputs": [
    {
     "data": {
      "text/html": [
       "<div>\n",
       "<style scoped>\n",
       "    .dataframe tbody tr th:only-of-type {\n",
       "        vertical-align: middle;\n",
       "    }\n",
       "\n",
       "    .dataframe tbody tr th {\n",
       "        vertical-align: top;\n",
       "    }\n",
       "\n",
       "    .dataframe thead th {\n",
       "        text-align: right;\n",
       "    }\n",
       "</style>\n",
       "<table border=\"1\" class=\"dataframe\">\n",
       "  <thead>\n",
       "    <tr style=\"text-align: right;\">\n",
       "      <th></th>\n",
       "      <th>Div</th>\n",
       "      <th>Date</th>\n",
       "      <th>Time</th>\n",
       "      <th>HomeTeam</th>\n",
       "      <th>AwayTeam</th>\n",
       "      <th>FTHG</th>\n",
       "      <th>FTAG</th>\n",
       "      <th>FTR</th>\n",
       "      <th>HTHG</th>\n",
       "      <th>HTAG</th>\n",
       "      <th>...</th>\n",
       "      <th>AvgC&lt;2.5</th>\n",
       "      <th>AHCh</th>\n",
       "      <th>B365CAHH</th>\n",
       "      <th>B365CAHA</th>\n",
       "      <th>PCAHH</th>\n",
       "      <th>PCAHA</th>\n",
       "      <th>MaxCAHH</th>\n",
       "      <th>MaxCAHA</th>\n",
       "      <th>AvgCAHH</th>\n",
       "      <th>AvgCAHA</th>\n",
       "    </tr>\n",
       "  </thead>\n",
       "  <tbody>\n",
       "    <tr>\n",
       "      <th>186</th>\n",
       "      <td>E0</td>\n",
       "      <td>02/01/2022</td>\n",
       "      <td>14:00</td>\n",
       "      <td>Brentford</td>\n",
       "      <td>Aston Villa</td>\n",
       "      <td>2</td>\n",
       "      <td>1</td>\n",
       "      <td>H</td>\n",
       "      <td>1</td>\n",
       "      <td>1</td>\n",
       "      <td>...</td>\n",
       "      <td>1.72</td>\n",
       "      <td>0.00</td>\n",
       "      <td>2.04</td>\n",
       "      <td>1.89</td>\n",
       "      <td>2.06</td>\n",
       "      <td>1.88</td>\n",
       "      <td>2.21</td>\n",
       "      <td>1.92</td>\n",
       "      <td>2.03</td>\n",
       "      <td>1.86</td>\n",
       "    </tr>\n",
       "    <tr>\n",
       "      <th>187</th>\n",
       "      <td>E0</td>\n",
       "      <td>02/01/2022</td>\n",
       "      <td>14:00</td>\n",
       "      <td>Everton</td>\n",
       "      <td>Brighton</td>\n",
       "      <td>2</td>\n",
       "      <td>3</td>\n",
       "      <td>A</td>\n",
       "      <td>0</td>\n",
       "      <td>2</td>\n",
       "      <td>...</td>\n",
       "      <td>1.62</td>\n",
       "      <td>0.00</td>\n",
       "      <td>2.11</td>\n",
       "      <td>1.82</td>\n",
       "      <td>2.01</td>\n",
       "      <td>1.92</td>\n",
       "      <td>2.13</td>\n",
       "      <td>2.07</td>\n",
       "      <td>2.00</td>\n",
       "      <td>1.88</td>\n",
       "    </tr>\n",
       "    <tr>\n",
       "      <th>188</th>\n",
       "      <td>E0</td>\n",
       "      <td>02/01/2022</td>\n",
       "      <td>14:00</td>\n",
       "      <td>Leeds</td>\n",
       "      <td>Burnley</td>\n",
       "      <td>3</td>\n",
       "      <td>1</td>\n",
       "      <td>H</td>\n",
       "      <td>1</td>\n",
       "      <td>0</td>\n",
       "      <td>...</td>\n",
       "      <td>2.01</td>\n",
       "      <td>-0.50</td>\n",
       "      <td>2.10</td>\n",
       "      <td>1.83</td>\n",
       "      <td>2.11</td>\n",
       "      <td>1.81</td>\n",
       "      <td>2.14</td>\n",
       "      <td>1.90</td>\n",
       "      <td>2.06</td>\n",
       "      <td>1.84</td>\n",
       "    </tr>\n",
       "    <tr>\n",
       "      <th>189</th>\n",
       "      <td>E0</td>\n",
       "      <td>02/01/2022</td>\n",
       "      <td>16:30</td>\n",
       "      <td>Chelsea</td>\n",
       "      <td>Liverpool</td>\n",
       "      <td>2</td>\n",
       "      <td>2</td>\n",
       "      <td>D</td>\n",
       "      <td>2</td>\n",
       "      <td>2</td>\n",
       "      <td>...</td>\n",
       "      <td>2.11</td>\n",
       "      <td>0.00</td>\n",
       "      <td>1.87</td>\n",
       "      <td>2.06</td>\n",
       "      <td>1.94</td>\n",
       "      <td>1.98</td>\n",
       "      <td>2.01</td>\n",
       "      <td>2.06</td>\n",
       "      <td>1.90</td>\n",
       "      <td>1.98</td>\n",
       "    </tr>\n",
       "    <tr>\n",
       "      <th>190</th>\n",
       "      <td>E0</td>\n",
       "      <td>03/01/2022</td>\n",
       "      <td>17:30</td>\n",
       "      <td>Man United</td>\n",
       "      <td>Wolves</td>\n",
       "      <td>0</td>\n",
       "      <td>1</td>\n",
       "      <td>A</td>\n",
       "      <td>0</td>\n",
       "      <td>0</td>\n",
       "      <td>...</td>\n",
       "      <td>1.75</td>\n",
       "      <td>-0.75</td>\n",
       "      <td>2.00</td>\n",
       "      <td>1.95</td>\n",
       "      <td>1.97</td>\n",
       "      <td>1.95</td>\n",
       "      <td>2.00</td>\n",
       "      <td>2.15</td>\n",
       "      <td>1.90</td>\n",
       "      <td>1.99</td>\n",
       "    </tr>\n",
       "  </tbody>\n",
       "</table>\n",
       "<p>5 rows × 106 columns</p>\n",
       "</div>"
      ],
      "text/plain": [
       "    Div        Date   Time    HomeTeam     AwayTeam  FTHG  FTAG FTR  HTHG  \\\n",
       "186  E0  02/01/2022  14:00   Brentford  Aston Villa     2     1   H     1   \n",
       "187  E0  02/01/2022  14:00     Everton     Brighton     2     3   A     0   \n",
       "188  E0  02/01/2022  14:00       Leeds      Burnley     3     1   H     1   \n",
       "189  E0  02/01/2022  16:30     Chelsea    Liverpool     2     2   D     2   \n",
       "190  E0  03/01/2022  17:30  Man United       Wolves     0     1   A     0   \n",
       "\n",
       "     HTAG  ... AvgC<2.5  AHCh  B365CAHH  B365CAHA  PCAHH  PCAHA  MaxCAHH  \\\n",
       "186     1  ...     1.72  0.00      2.04      1.89   2.06   1.88     2.21   \n",
       "187     2  ...     1.62  0.00      2.11      1.82   2.01   1.92     2.13   \n",
       "188     0  ...     2.01 -0.50      2.10      1.83   2.11   1.81     2.14   \n",
       "189     2  ...     2.11  0.00      1.87      2.06   1.94   1.98     2.01   \n",
       "190     0  ...     1.75 -0.75      2.00      1.95   1.97   1.95     2.00   \n",
       "\n",
       "     MaxCAHA  AvgCAHH  AvgCAHA  \n",
       "186     1.92     2.03     1.86  \n",
       "187     2.07     2.00     1.88  \n",
       "188     1.90     2.06     1.84  \n",
       "189     2.06     1.90     1.98  \n",
       "190     2.15     1.90     1.99  \n",
       "\n",
       "[5 rows x 106 columns]"
      ]
     },
     "execution_count": 137,
     "metadata": {},
     "output_type": "execute_result"
    }
   ],
   "source": [
    "#last_games = pd.read_csv('last_eng.csv')\n",
    "URL_FRANCE_LEAGUE = 'https://www.football-data.co.uk/mmz4281/2122/F1.csv'\n",
    "URL_ENGLAND_LEAGUE = 'https://www.football-data.co.uk/mmz4281/2122/E0.csv'\n",
    "\n",
    "last_games = pd.read_csv(URL_ENGLAND_LEAGUE).tail(20)\n",
    "\n",
    "last_games.tail()"
   ]
  },
  {
   "cell_type": "code",
   "execution_count": 140,
   "metadata": {},
   "outputs": [
    {
     "name": "stdout",
     "output_type": "stream",
     "text": [
      "[[4.22383164e-155 1.00000000e+000 5.67357766e-135]]\n",
      "Tottenham versus Crystal Palace : H H GOOD PREDICTION\n",
      "[[5.64613862e-262 1.00000000e+000 1.29684097e-272]]\n",
      "West Ham versus Southampton : A H BAD PREDICTION\n",
      "[[1.39520284e-134 6.69029877e-012 1.00000000e+000]]\n",
      "Aston Villa versus Chelsea : A A GOOD PREDICTION\n",
      "[[2.25836457e-134 1.00000000e+000 1.84426497e-143]]\n",
      "Brighton versus Brentford : H H GOOD PREDICTION\n",
      "[[8.12174796e-136 1.00000000e+000 2.77317096e-117]]\n",
      "Newcastle versus Man United : D H BAD PREDICTION\n",
      "[[2.5320416e-202 1.0000000e+000 2.5476804e-262]]\n",
      "Crystal Palace versus Norwich : H H GOOD PREDICTION\n",
      "[[1.06620600e-143 1.00000000e+000 8.25582119e-184]]\n",
      "Southampton versus Tottenham : D H BAD PREDICTION\n",
      "[[1.00182625e-152 1.00000000e+000 1.91904032e-104]]\n",
      "Watford versus West Ham : A H BAD PREDICTION\n",
      "[[2.37832104e-165 1.07455137e-035 1.00000000e+000]]\n",
      "Leicester versus Liverpool : H A BAD PREDICTION\n",
      "[[4.76220588e-291 1.00000000e+000 0.00000000e+000]]\n",
      "Chelsea versus Brighton : D H BAD PREDICTION\n",
      "[[5.73248866e-217 7.82272012e-093 1.00000000e+000]]\n",
      "Brentford versus Man City : A A GOOD PREDICTION\n",
      "[[8.21171706e-277 1.00000000e+000 0.00000000e+000]]\n",
      "Man United versus Burnley : H H GOOD PREDICTION\n",
      "[[1.59375845e-199 2.63302198e-026 1.00000000e+000]]\n",
      "Arsenal versus Man City : A A GOOD PREDICTION\n",
      "[[2.35061474e-222 1.00000000e+000 7.00560810e-264]]\n",
      "Watford versus Tottenham : A H BAD PREDICTION\n",
      "[[7.02414864e-139 1.00000000e+000 5.77165102e-107]]\n",
      "Crystal Palace versus West Ham : A H BAD PREDICTION\n",
      "[[4.42102209e-184 1.00000000e+000 7.04523932e-209]]\n",
      "Brentford versus Aston Villa : H H GOOD PREDICTION\n",
      "[[2.54969245e-205 1.00000000e+000 4.40260696e-200]]\n",
      "Everton versus Brighton : A H BAD PREDICTION\n",
      "[[2.06038097e-217 1.00000000e+000 1.94660697e-263]]\n",
      "Leeds versus Burnley : H H GOOD PREDICTION\n",
      "[[5.23750781e-240 1.00000000e+000 2.66000548e-121]]\n",
      "Chelsea versus Liverpool : D H BAD PREDICTION\n",
      "[[5.09853567e-258 1.00000000e+000 4.28465517e-264]]\n",
      "Man United versus Wolves : A H BAD PREDICTION\n",
      "9 11\n",
      "Pourcentage bonne predictions :  0.45\n"
     ]
    }
   ],
   "source": [
    "import warnings\n",
    "warnings.filterwarnings(\"ignore\")\n",
    "\n",
    "good_score = 0\n",
    "bad_score = 0\n",
    "for idx, game in last_games.iterrows():\n",
    "    pred = get_result(mlp_classifier,last_games.loc[idx, 'HomeTeam'], last_games.loc[idx, 'AwayTeam'])\n",
    "    #if (last_games.loc[idx, 'FTR']=='D'):\n",
    "    #    continue\n",
    "\n",
    "    if (pred ==  last_games.loc[idx, 'FTR']):\n",
    "        print ('{} versus {} : {} {} GOOD PREDICTION'.format(\n",
    "            last_games.loc[idx, 'HomeTeam'], \n",
    "            last_games.loc[idx, 'AwayTeam'],\n",
    "            last_games.loc[idx, 'FTR'],\n",
    "            pred))\n",
    "        good_score += 1\n",
    "    else:\n",
    "        print ('{} versus {} : {} {} BAD PREDICTION'.format(\n",
    "            last_games.loc[idx, 'HomeTeam'], \n",
    "            last_games.loc[idx, 'AwayTeam'],\n",
    "            last_games.loc[idx, 'FTR'],\n",
    "            pred))\n",
    "        bad_score += 1\n",
    "\n",
    "print(good_score, bad_score)\n",
    "print('Pourcentage bonne predictions : ', (good_score)/(good_score+bad_score))"
   ]
  },
  {
   "cell_type": "code",
   "execution_count": 20,
   "metadata": {},
   "outputs": [
    {
     "name": "stderr",
     "output_type": "stream",
     "text": [
      "/Users/ycammarata/miniforge3/lib/python3.9/site-packages/sklearn/neural_network/_multilayer_perceptron.py:549: ConvergenceWarning: lbfgs failed to converge (status=1):\n",
      "STOP: TOTAL NO. of ITERATIONS REACHED LIMIT.\n",
      "\n",
      "Increase the number of iterations (max_iter) or scale the data as shown in:\n",
      "    https://scikit-learn.org/stable/modules/preprocessing.html\n",
      "  self.n_iter_ = _check_optimize_result(\"lbfgs\", opt_res, self.max_iter)\n"
     ]
    },
    {
     "name": "stdout",
     "output_type": "stream",
     "text": [
      "Accuracy (train, test) for classifier Neural Net are : 51.97%, 50.63%, f1 : 43.78, 42.59\n",
      "{'classifier': 'Neural Net', 'accuracy_train': 51.97, 'f1_train': 43.78, 'accuracy_test': 50.63, 'f1_test': 42.59}\n",
      "Accuracy (train, test) for classifier Dummy (baseline) are : 45.07%, 45.06%, f1 : 28.01, 27.99\n",
      "{'classifier': 'Dummy (baseline)', 'accuracy_train': 45.07, 'f1_train': 28.01, 'accuracy_test': 45.06, 'f1_test': 27.99}\n",
      "Accuracy (train, test) for classifier Logistic are : 50.82%, 49.85%, f1 : 44.72, 43.71\n",
      "{'classifier': 'Logistic', 'accuracy_train': 50.82, 'f1_train': 44.72, 'accuracy_test': 49.85, 'f1_test': 43.71}\n",
      "Accuracy (train, test) for classifier Ridge are : 49.34%, 47.58%, f1 : 47.44, 45.41\n",
      "{'classifier': 'Ridge', 'accuracy_train': 49.34, 'f1_train': 47.44, 'accuracy_test': 47.58, 'f1_test': 45.41}\n",
      "Accuracy (train, test) for classifier Nearest Neighbors are : 67.5%, 42.19%, f1 : 67.84, 42.56\n",
      "{'classifier': 'Nearest Neighbors', 'accuracy_train': 67.5, 'f1_train': 67.84, 'accuracy_test': 42.19, 'f1_test': 42.56}\n",
      "Accuracy (train, test) for classifier Linear SVM are : 46.19%, 44.03%, f1 : 47.19, 45.11\n",
      "{'classifier': 'Linear SVM', 'accuracy_train': 46.19, 'f1_train': 47.19, 'accuracy_test': 44.03, 'f1_test': 45.11}\n",
      "Accuracy (train, test) for classifier RBF SVM are : 46.82%, 44.8%, f1 : 47.91, 46.0\n",
      "{'classifier': 'RBF SVM', 'accuracy_train': 46.82, 'f1_train': 47.91, 'accuracy_test': 44.8, 'f1_test': 46.0}\n",
      "Accuracy (train, test) for classifier Decision Tree are : 46.61%, 42.77%, f1 : 47.32, 43.47\n",
      "{'classifier': 'Decision Tree', 'accuracy_train': 46.61, 'f1_train': 47.32, 'accuracy_test': 42.77, 'f1_test': 43.47}\n",
      "Accuracy (train, test) for classifier Random Forest are : 47.1%, 43.53%, f1 : 48.26, 44.69\n",
      "{'classifier': 'Random Forest', 'accuracy_train': 47.1, 'f1_train': 48.26, 'accuracy_test': 43.53, 'f1_test': 44.69}\n",
      "Accuracy (train, test) for classifier AdaBoost are : 51.87%, 50.63%, f1 : 43.8, 42.66\n",
      "{'classifier': 'AdaBoost', 'accuracy_train': 51.87, 'f1_train': 43.8, 'accuracy_test': 50.63, 'f1_test': 42.66}\n",
      "Accuracy (train, test) for classifier Naive Bayes are : 51.31%, 50.24%, f1 : 42.85, 41.89\n",
      "{'classifier': 'Naive Bayes', 'accuracy_train': 51.31, 'f1_train': 42.85, 'accuracy_test': 50.24, 'f1_test': 41.89}\n"
     ]
    }
   ],
   "source": [
    "import numpy as np\n",
    "from sklearn.dummy import DummyClassifier\n",
    "from sklearn.model_selection import train_test_split\n",
    "from sklearn.linear_model import RidgeClassifier\n",
    "from sklearn.linear_model import LogisticRegression\n",
    "from sklearn.neural_network import MLPClassifier\n",
    "from sklearn.neighbors import KNeighborsClassifier\n",
    "from sklearn.svm import SVC\n",
    "from sklearn.gaussian_process import GaussianProcessClassifier\n",
    "from sklearn.gaussian_process.kernels import RBF\n",
    "from sklearn.tree import DecisionTreeClassifier\n",
    "from sklearn.ensemble import RandomForestClassifier, AdaBoostClassifier\n",
    "from sklearn.naive_bayes import GaussianNB\n",
    "from sklearn.discriminant_analysis import QuadraticDiscriminantAnalysis\n",
    "from sklearn.metrics import f1_score, accuracy_score\n",
    "\n",
    "names = [\n",
    "    \"Neural Net\",\n",
    "    \"Dummy (baseline)\",\n",
    "    \"Logistic\",\n",
    "    \"Ridge\",\n",
    "    \"Nearest Neighbors\",\n",
    "    \"Linear SVM\",\n",
    "    \"RBF SVM\",\n",
    "    \"Decision Tree\",\n",
    "    \"Random Forest\",\n",
    "    \"AdaBoost\",\n",
    "    \"Naive Bayes\",\n",
    "]\n",
    "\n",
    "classifiers = [\n",
    "    MLPClassifier(solver='lbfgs', max_iter=1000, alpha=0.05, learning_rate='constant'),\n",
    "    DummyClassifier(),\n",
    "    LogisticRegression(class_weight='balanced', solver='liblinear'),\n",
    "    RidgeClassifier(class_weight='balanced', max_iter=10000, alpha=1.08, solver='sag'),\n",
    "    KNeighborsClassifier(3, n_jobs=-1),\n",
    "    SVC(kernel=\"linear\", C=0.025, class_weight='balanced'),\n",
    "    SVC(gamma=2, C=1, class_weight='balanced'),\n",
    "    DecisionTreeClassifier(max_depth=5, class_weight='balanced'),\n",
    "    RandomForestClassifier(max_depth=5, n_estimators=10, max_features='auto', class_weight='balanced', n_jobs=-1),\n",
    "    AdaBoostClassifier(),\n",
    "    GaussianNB(var_smoothing=0.657933224657568),\n",
    "]\n",
    "\n",
    "results = pd.DataFrame(columns=['classifier', 'accuracy_train', 'f1_train', 'accuracy_test', 'f1_test'])\n",
    "\n",
    "# iterate over classifiers\n",
    "for name, clf in zip(names, classifiers):\n",
    "    clf.fit(x_train, y_train)\n",
    "    \n",
    "    y_train_pred = clf.predict(x_train)\n",
    "    y_test_pred = clf.predict(x_test)\n",
    "    \n",
    "    f1_score_train = round(f1_score(y_train, y_train_pred, average='weighted')*100,2)\n",
    "    f1_score_test = round(f1_score(y_test, y_test_pred, average='weighted')*100,2)\n",
    "    score_train = round(accuracy_score(y_train, y_train_pred)*100, 2)\n",
    "    score_test = round(accuracy_score(y_test, y_test_pred)*100, 2)\n",
    "\n",
    "    print('Accuracy (train, test) for classifier {} are : {}%, {}%, f1 : {}, {}'.format(name, score_train, score_test, f1_score_train, f1_score_test))\n",
    "\n",
    "    result = {'classifier':name, 'accuracy_train':score_train, 'f1_train':f1_score_train, 'accuracy_test':score_test, 'f1_test':f1_score_test}\n",
    "    print(result)\n",
    "    results = results.append(result, ignore_index=True)"
   ]
  },
  {
   "cell_type": "code",
   "execution_count": 21,
   "metadata": {},
   "outputs": [
    {
     "data": {
      "text/html": [
       "<div>\n",
       "<style scoped>\n",
       "    .dataframe tbody tr th:only-of-type {\n",
       "        vertical-align: middle;\n",
       "    }\n",
       "\n",
       "    .dataframe tbody tr th {\n",
       "        vertical-align: top;\n",
       "    }\n",
       "\n",
       "    .dataframe thead th {\n",
       "        text-align: right;\n",
       "    }\n",
       "</style>\n",
       "<table border=\"1\" class=\"dataframe\">\n",
       "  <thead>\n",
       "    <tr style=\"text-align: right;\">\n",
       "      <th></th>\n",
       "      <th>classifier</th>\n",
       "      <th>accuracy_train</th>\n",
       "      <th>f1_train</th>\n",
       "      <th>accuracy_test</th>\n",
       "      <th>f1_test</th>\n",
       "    </tr>\n",
       "  </thead>\n",
       "  <tbody>\n",
       "    <tr>\n",
       "      <th>6</th>\n",
       "      <td>RBF SVM</td>\n",
       "      <td>46.82</td>\n",
       "      <td>47.91</td>\n",
       "      <td>44.80</td>\n",
       "      <td>46.00</td>\n",
       "    </tr>\n",
       "    <tr>\n",
       "      <th>3</th>\n",
       "      <td>Ridge</td>\n",
       "      <td>49.34</td>\n",
       "      <td>47.44</td>\n",
       "      <td>47.58</td>\n",
       "      <td>45.41</td>\n",
       "    </tr>\n",
       "    <tr>\n",
       "      <th>5</th>\n",
       "      <td>Linear SVM</td>\n",
       "      <td>46.19</td>\n",
       "      <td>47.19</td>\n",
       "      <td>44.03</td>\n",
       "      <td>45.11</td>\n",
       "    </tr>\n",
       "    <tr>\n",
       "      <th>8</th>\n",
       "      <td>Random Forest</td>\n",
       "      <td>47.10</td>\n",
       "      <td>48.26</td>\n",
       "      <td>43.53</td>\n",
       "      <td>44.69</td>\n",
       "    </tr>\n",
       "    <tr>\n",
       "      <th>2</th>\n",
       "      <td>Logistic</td>\n",
       "      <td>50.82</td>\n",
       "      <td>44.72</td>\n",
       "      <td>49.85</td>\n",
       "      <td>43.71</td>\n",
       "    </tr>\n",
       "    <tr>\n",
       "      <th>7</th>\n",
       "      <td>Decision Tree</td>\n",
       "      <td>46.61</td>\n",
       "      <td>47.32</td>\n",
       "      <td>42.77</td>\n",
       "      <td>43.47</td>\n",
       "    </tr>\n",
       "    <tr>\n",
       "      <th>9</th>\n",
       "      <td>AdaBoost</td>\n",
       "      <td>51.87</td>\n",
       "      <td>43.80</td>\n",
       "      <td>50.63</td>\n",
       "      <td>42.66</td>\n",
       "    </tr>\n",
       "    <tr>\n",
       "      <th>0</th>\n",
       "      <td>Neural Net</td>\n",
       "      <td>51.97</td>\n",
       "      <td>43.78</td>\n",
       "      <td>50.63</td>\n",
       "      <td>42.59</td>\n",
       "    </tr>\n",
       "    <tr>\n",
       "      <th>4</th>\n",
       "      <td>Nearest Neighbors</td>\n",
       "      <td>67.50</td>\n",
       "      <td>67.84</td>\n",
       "      <td>42.19</td>\n",
       "      <td>42.56</td>\n",
       "    </tr>\n",
       "    <tr>\n",
       "      <th>10</th>\n",
       "      <td>Naive Bayes</td>\n",
       "      <td>51.31</td>\n",
       "      <td>42.85</td>\n",
       "      <td>50.24</td>\n",
       "      <td>41.89</td>\n",
       "    </tr>\n",
       "    <tr>\n",
       "      <th>1</th>\n",
       "      <td>Dummy (baseline)</td>\n",
       "      <td>45.07</td>\n",
       "      <td>28.01</td>\n",
       "      <td>45.06</td>\n",
       "      <td>27.99</td>\n",
       "    </tr>\n",
       "  </tbody>\n",
       "</table>\n",
       "</div>"
      ],
      "text/plain": [
       "           classifier  accuracy_train  f1_train  accuracy_test  f1_test\n",
       "6             RBF SVM           46.82     47.91          44.80    46.00\n",
       "3               Ridge           49.34     47.44          47.58    45.41\n",
       "5          Linear SVM           46.19     47.19          44.03    45.11\n",
       "8       Random Forest           47.10     48.26          43.53    44.69\n",
       "2            Logistic           50.82     44.72          49.85    43.71\n",
       "7       Decision Tree           46.61     47.32          42.77    43.47\n",
       "9            AdaBoost           51.87     43.80          50.63    42.66\n",
       "0          Neural Net           51.97     43.78          50.63    42.59\n",
       "4   Nearest Neighbors           67.50     67.84          42.19    42.56\n",
       "10        Naive Bayes           51.31     42.85          50.24    41.89\n",
       "1    Dummy (baseline)           45.07     28.01          45.06    27.99"
      ]
     },
     "execution_count": 21,
     "metadata": {},
     "output_type": "execute_result"
    }
   ],
   "source": [
    "results.head(15).sort_values('f1_test', ascending=False)"
   ]
  },
  {
   "cell_type": "code",
   "execution_count": 25,
   "metadata": {},
   "outputs": [
    {
     "data": {
      "image/png": "[encoded data removed]",
      "text/plain": [
       "<Figure size 720x360 with 1 Axes>"
      ]
     },
     "metadata": {
      "needs_background": "light"
     },
     "output_type": "display_data"
    }
   ],
   "source": [
    "\n",
    "ax = results.plot(x='classifier', kind='bar', figsize=(10,5), grid=True)\n"
   ]
  },
  {
   "cell_type": "code",
   "execution_count": 129,
   "metadata": {},
   "outputs": [
    {
     "name": "stdout",
     "output_type": "stream",
     "text": [
      "Fitting 15 folds for each of 100 candidates, totalling 1500 fits\n"
     ]
    },
    {
     "data": {
      "text/plain": [
       "{'var_smoothing': 0.657933224657568}"
      ]
     },
     "execution_count": 129,
     "metadata": {},
     "output_type": "execute_result"
    }
   ],
   "source": [
    "from sklearn.model_selection import GridSearchCV\n",
    "\n",
    "nb_classifier = GaussianNB()\n",
    "\n",
    "params_NB = {'var_smoothing': np.logspace(0,-9, num=100)}\n",
    "gs_NB = GridSearchCV(estimator=nb_classifier, \n",
    "                 param_grid=params_NB, \n",
    "                 cv=15,   # use any cross validation technique \n",
    "                 verbose=1, \n",
    "                 scoring='accuracy') \n",
    "gs_NB.fit(x_train, y_train)\n",
    "\n",
    "gs_NB.best_params_"
   ]
  },
  {
   "cell_type": "code",
   "execution_count": 135,
   "metadata": {},
   "outputs": [
    {
     "name": "stdout",
     "output_type": "stream",
     "text": [
      "Accuracy on train is : 51.31%\n",
      "Accuracy on test is : 50.24%\n",
      "              precision    recall  f1-score   support\n",
      "\n",
      "           0       0.00      0.00      0.00      1172\n",
      "           1       0.52      0.84      0.64      2089\n",
      "           2       0.46      0.42      0.44      1375\n",
      "\n",
      "    accuracy                           0.50      4636\n",
      "   macro avg       0.33      0.42      0.36      4636\n",
      "weighted avg       0.37      0.50      0.42      4636\n",
      "\n"
     ]
    },
    {
     "data": {
      "image/png": "[encoded data removed]",
      "text/plain": [
       "<Figure size 432x288 with 2 Axes>"
      ]
     },
     "metadata": {
      "needs_background": "light"
     },
     "output_type": "display_data"
    }
   ],
   "source": [
    "y_train_pred = gs_NB.best_estimator_.predict(x_train)\n",
    "accuracy = accuracy_score(y_train, y_train_pred)\n",
    "print(\"Accuracy on train is : %.2f%%\" % (accuracy * 100.0))\n",
    "\n",
    "y_test_pred = gs_NB.predict(x_test)\n",
    "accuracy = accuracy_score(y_test, y_test_pred)\n",
    "print(\"Accuracy on test is : %.2f%%\" % (accuracy * 100.0))\n",
    "\n",
    "evaluate(y_test, y_test_pred, {0,1,2})"
   ]
  },
  {
   "cell_type": "code",
   "execution_count": 141,
   "metadata": {},
   "outputs": [
    {
     "data": {
      "application/vnd.plotly.v1+json": {
       "config": {
        "plotlyServerURL": "https://plot.ly"
       },
       "data": [
        {
         "colorscale": [
          [
           0,
           "rgb(247,252,240)"
          ],
          [
           0.125,
           "rgb(224,243,219)"
          ],
          [
           0.25,
           "rgb(204,235,197)"
          ],
          [
           0.375,
           "rgb(168,221,181)"
          ],
          [
           0.5,
           "rgb(123,204,196)"
          ],
          [
           0.625,
           "rgb(78,179,211)"
          ],
          [
           0.75,
           "rgb(43,140,190)"
          ],
          [
           0.875,
           "rgb(8,104,172)"
          ],
          [
           1,
           "rgb(8,64,129)"
          ]
         ],
         "name": "train",
         "type": "heatmap",
         "x": [
          "Draw",
          "Home",
          "Away"
         ],
         "xaxis": "x",
         "y": [
          "Draw",
          "Home",
          "Away"
         ],
         "yaxis": "y",
         "z": [
          [
           0,
           3471,
           1215
          ],
          [
           0,
           7101,
           1256
          ],
          [
           0,
           3087,
           2412
          ]
         ],
         "zmax": 7101,
         "zmin": 0
        },
        {
         "colorscale": [
          [
           0,
           "rgb(247,252,240)"
          ],
          [
           0.125,
           "rgb(224,243,219)"
          ],
          [
           0.25,
           "rgb(204,235,197)"
          ],
          [
           0.375,
           "rgb(168,221,181)"
          ],
          [
           0.5,
           "rgb(123,204,196)"
          ],
          [
           0.625,
           "rgb(78,179,211)"
          ],
          [
           0.75,
           "rgb(43,140,190)"
          ],
          [
           0.875,
           "rgb(8,104,172)"
          ],
          [
           1,
           "rgb(8,64,129)"
          ]
         ],
         "name": "test",
         "type": "heatmap",
         "x": [
          "Draw",
          "Home",
          "Away"
         ],
         "xaxis": "x2",
         "y": [
          "Draw",
          "Home",
          "Away"
         ],
         "yaxis": "y2",
         "z": [
          [
           0,
           830,
           342
          ],
          [
           0,
           1751,
           338
          ],
          [
           0,
           797,
           578
          ]
         ],
         "zmax": 7101,
         "zmin": 0
        }
       ],
       "layout": {
        "annotations": [
         {
          "font": {
           "size": 16
          },
          "showarrow": false,
          "text": "train",
          "x": 0.225,
          "xanchor": "center",
          "xref": "paper",
          "y": 1,
          "yanchor": "bottom",
          "yref": "paper"
         },
         {
          "font": {
           "size": 16
          },
          "showarrow": false,
          "text": "test",
          "x": 0.775,
          "xanchor": "center",
          "xref": "paper",
          "y": 1,
          "yanchor": "bottom",
          "yref": "paper"
         },
         {
          "font": {
           "size": 16
          },
          "showarrow": false,
          "text": "Prediction",
          "x": 0.5,
          "xanchor": "center",
          "xref": "paper",
          "y": 0,
          "yanchor": "top",
          "yref": "paper",
          "yshift": -30
         },
         {
          "font": {
           "size": 16
          },
          "showarrow": false,
          "text": "True label",
          "textangle": -90,
          "x": 0,
          "xanchor": "right",
          "xref": "paper",
          "xshift": -40,
          "y": 0.5,
          "yanchor": "middle",
          "yref": "paper"
         }
        ],
        "template": {
         "data": {
          "bar": [
           {
            "error_x": {
             "color": "#2a3f5f"
            },
            "error_y": {
             "color": "#2a3f5f"
            },
            "marker": {
             "line": {
              "color": "#E5ECF6",
              "width": 0.5
             },
             "pattern": {
              "fillmode": "overlay",
              "size": 10,
              "solidity": 0.2
             }
            },
            "type": "bar"
           }
          ],
          "barpolar": [
           {
            "marker": {
             "line": {
              "color": "#E5ECF6",
              "width": 0.5
             },
             "pattern": {
              "fillmode": "overlay",
              "size": 10,
              "solidity": 0.2
             }
            },
            "type": "barpolar"
           }
          ],
          "carpet": [
           {
            "aaxis": {
             "endlinecolor": "#2a3f5f",
             "gridcolor": "white",
             "linecolor": "white",
             "minorgridcolor": "white",
             "startlinecolor": "#2a3f5f"
            },
            "baxis": {
             "endlinecolor": "#2a3f5f",
             "gridcolor": "white",
             "linecolor": "white",
             "minorgridcolor": "white",
             "startlinecolor": "#2a3f5f"
            },
            "type": "carpet"
           }
          ],
          "choropleth": [
           {
            "colorbar": {
             "outlinewidth": 0,
             "ticks": ""
            },
            "type": "choropleth"
           }
          ],
          "contour": [
           {
            "colorbar": {
             "outlinewidth": 0,
             "ticks": ""
            },
            "colorscale": [
             [
              0,
              "#0d0887"
             ],
             [
              0.1111111111111111,
              "#46039f"
             ],
             [
              0.2222222222222222,
              "#7201a8"
             ],
             [
              0.3333333333333333,
              "#9c179e"
             ],
             [
              0.4444444444444444,
              "#bd3786"
             ],
             [
              0.5555555555555556,
              "#d8576b"
             ],
             [
              0.6666666666666666,
              "#ed7953"
             ],
             [
              0.7777777777777778,
              "#fb9f3a"
             ],
             [
              0.8888888888888888,
              "#fdca26"
             ],
             [
              1,
              "#f0f921"
             ]
            ],
            "type": "contour"
           }
          ],
          "contourcarpet": [
           {
            "colorbar": {
             "outlinewidth": 0,
             "ticks": ""
            },
            "type": "contourcarpet"
           }
          ],
          "heatmap": [
           {
            "colorbar": {
             "outlinewidth": 0,
             "ticks": ""
            },
            "colorscale": [
             [
              0,
              "#0d0887"
             ],
             [
              0.1111111111111111,
              "#46039f"
             ],
             [
              0.2222222222222222,
              "#7201a8"
             ],
             [
              0.3333333333333333,
              "#9c179e"
             ],
             [
              0.4444444444444444,
              "#bd3786"
             ],
             [
              0.5555555555555556,
              "#d8576b"
             ],
             [
              0.6666666666666666,
              "#ed7953"
             ],
             [
              0.7777777777777778,
              "#fb9f3a"
             ],
             [
              0.8888888888888888,
              "#fdca26"
             ],
             [
              1,
              "#f0f921"
             ]
            ],
            "type": "heatmap"
           }
          ],
          "heatmapgl": [
           {
            "colorbar": {
             "outlinewidth": 0,
             "ticks": ""
            },
            "colorscale": [
             [
              0,
              "#0d0887"
             ],
             [
              0.1111111111111111,
              "#46039f"
             ],
             [
              0.2222222222222222,
              "#7201a8"
             ],
             [
              0.3333333333333333,
              "#9c179e"
             ],
             [
              0.4444444444444444,
              "#bd3786"
             ],
             [
              0.5555555555555556,
              "#d8576b"
             ],
             [
              0.6666666666666666,
              "#ed7953"
             ],
             [
              0.7777777777777778,
              "#fb9f3a"
             ],
             [
              0.8888888888888888,
              "#fdca26"
             ],
             [
              1,
              "#f0f921"
             ]
            ],
            "type": "heatmapgl"
           }
          ],
          "histogram": [
           {
            "marker": {
             "pattern": {
              "fillmode": "overlay",
              "size": 10,
              "solidity": 0.2
             }
            },
            "type": "histogram"
           }
          ],
          "histogram2d": [
           {
            "colorbar": {
             "outlinewidth": 0,
             "ticks": ""
            },
            "colorscale": [
             [
              0,
              "#0d0887"
             ],
             [
              0.1111111111111111,
              "#46039f"
             ],
             [
              0.2222222222222222,
              "#7201a8"
             ],
             [
              0.3333333333333333,
              "#9c179e"
             ],
             [
              0.4444444444444444,
              "#bd3786"
             ],
             [
              0.5555555555555556,
              "#d8576b"
             ],
             [
              0.6666666666666666,
              "#ed7953"
             ],
             [
              0.7777777777777778,
              "#fb9f3a"
             ],
             [
              0.8888888888888888,
              "#fdca26"
             ],
             [
              1,
              "#f0f921"
             ]
            ],
            "type": "histogram2d"
           }
          ],
          "histogram2dcontour": [
           {
            "colorbar": {
             "outlinewidth": 0,
             "ticks": ""
            },
            "colorscale": [
             [
              0,
              "#0d0887"
             ],
             [
              0.1111111111111111,
              "#46039f"
             ],
             [
              0.2222222222222222,
              "#7201a8"
             ],
             [
              0.3333333333333333,
              "#9c179e"
             ],
             [
              0.4444444444444444,
              "#bd3786"
             ],
             [
              0.5555555555555556,
              "#d8576b"
             ],
             [
              0.6666666666666666,
              "#ed7953"
             ],
             [
              0.7777777777777778,
              "#fb9f3a"
             ],
             [
              0.8888888888888888,
              "#fdca26"
             ],
             [
              1,
              "#f0f921"
             ]
            ],
            "type": "histogram2dcontour"
           }
          ],
          "mesh3d": [
           {
            "colorbar": {
             "outlinewidth": 0,
             "ticks": ""
            },
            "type": "mesh3d"
           }
          ],
          "parcoords": [
           {
            "line": {
             "colorbar": {
              "outlinewidth": 0,
              "ticks": ""
             }
            },
            "type": "parcoords"
           }
          ],
          "pie": [
           {
            "automargin": true,
            "type": "pie"
           }
          ],
          "scatter": [
           {
            "marker": {
             "colorbar": {
              "outlinewidth": 0,
              "ticks": ""
             }
            },
            "type": "scatter"
           }
          ],
          "scatter3d": [
           {
            "line": {
             "colorbar": {
              "outlinewidth": 0,
              "ticks": ""
             }
            },
            "marker": {
             "colorbar": {
              "outlinewidth": 0,
              "ticks": ""
             }
            },
            "type": "scatter3d"
           }
          ],
          "scattercarpet": [
           {
            "marker": {
             "colorbar": {
              "outlinewidth": 0,
              "ticks": ""
             }
            },
            "type": "scattercarpet"
           }
          ],
          "scattergeo": [
           {
            "marker": {
             "colorbar": {
              "outlinewidth": 0,
              "ticks": ""
             }
            },
            "type": "scattergeo"
           }
          ],
          "scattergl": [
           {
            "marker": {
             "colorbar": {
              "outlinewidth": 0,
              "ticks": ""
             }
            },
            "type": "scattergl"
           }
          ],
          "scattermapbox": [
           {
            "marker": {
             "colorbar": {
              "outlinewidth": 0,
              "ticks": ""
             }
            },
            "type": "scattermapbox"
           }
          ],
          "scatterpolar": [
           {
            "marker": {
             "colorbar": {
              "outlinewidth": 0,
              "ticks": ""
             }
            },
            "type": "scatterpolar"
           }
          ],
          "scatterpolargl": [
           {
            "marker": {
             "colorbar": {
              "outlinewidth": 0,
              "ticks": ""
             }
            },
            "type": "scatterpolargl"
           }
          ],
          "scatterternary": [
           {
            "marker": {
             "colorbar": {
              "outlinewidth": 0,
              "ticks": ""
             }
            },
            "type": "scatterternary"
           }
          ],
          "surface": [
           {
            "colorbar": {
             "outlinewidth": 0,
             "ticks": ""
            },
            "colorscale": [
             [
              0,
              "#0d0887"
             ],
             [
              0.1111111111111111,
              "#46039f"
             ],
             [
              0.2222222222222222,
              "#7201a8"
             ],
             [
              0.3333333333333333,
              "#9c179e"
             ],
             [
              0.4444444444444444,
              "#bd3786"
             ],
             [
              0.5555555555555556,
              "#d8576b"
             ],
             [
              0.6666666666666666,
              "#ed7953"
             ],
             [
              0.7777777777777778,
              "#fb9f3a"
             ],
             [
              0.8888888888888888,
              "#fdca26"
             ],
             [
              1,
              "#f0f921"
             ]
            ],
            "type": "surface"
           }
          ],
          "table": [
           {
            "cells": {
             "fill": {
              "color": "#EBF0F8"
             },
             "line": {
              "color": "white"
             }
            },
            "header": {
             "fill": {
              "color": "#C8D4E3"
             },
             "line": {
              "color": "white"
             }
            },
            "type": "table"
           }
          ]
         },
         "layout": {
          "annotationdefaults": {
           "arrowcolor": "#2a3f5f",
           "arrowhead": 0,
           "arrowwidth": 1
          },
          "autotypenumbers": "strict",
          "coloraxis": {
           "colorbar": {
            "outlinewidth": 0,
            "ticks": ""
           }
          },
          "colorscale": {
           "diverging": [
            [
             0,
             "#8e0152"
            ],
            [
             0.1,
             "#c51b7d"
            ],
            [
             0.2,
             "#de77ae"
            ],
            [
             0.3,
             "#f1b6da"
            ],
            [
             0.4,
             "#fde0ef"
            ],
            [
             0.5,
             "#f7f7f7"
            ],
            [
             0.6,
             "#e6f5d0"
            ],
            [
             0.7,
             "#b8e186"
            ],
            [
             0.8,
             "#7fbc41"
            ],
            [
             0.9,
             "#4d9221"
            ],
            [
             1,
             "#276419"
            ]
           ],
           "sequential": [
            [
             0,
             "#0d0887"
            ],
            [
             0.1111111111111111,
             "#46039f"
            ],
            [
             0.2222222222222222,
             "#7201a8"
            ],
            [
             0.3333333333333333,
             "#9c179e"
            ],
            [
             0.4444444444444444,
             "#bd3786"
            ],
            [
             0.5555555555555556,
             "#d8576b"
            ],
            [
             0.6666666666666666,
             "#ed7953"
            ],
            [
             0.7777777777777778,
             "#fb9f3a"
            ],
            [
             0.8888888888888888,
             "#fdca26"
            ],
            [
             1,
             "#f0f921"
            ]
           ],
           "sequentialminus": [
            [
             0,
             "#0d0887"
            ],
            [
             0.1111111111111111,
             "#46039f"
            ],
            [
             0.2222222222222222,
             "#7201a8"
            ],
            [
             0.3333333333333333,
             "#9c179e"
            ],
            [
             0.4444444444444444,
             "#bd3786"
            ],
            [
             0.5555555555555556,
             "#d8576b"
            ],
            [
             0.6666666666666666,
             "#ed7953"
            ],
            [
             0.7777777777777778,
             "#fb9f3a"
            ],
            [
             0.8888888888888888,
             "#fdca26"
            ],
            [
             1,
             "#f0f921"
            ]
           ]
          },
          "colorway": [
           "#636efa",
           "#EF553B",
           "#00cc96",
           "#ab63fa",
           "#FFA15A",
           "#19d3f3",
           "#FF6692",
           "#B6E880",
           "#FF97FF",
           "#FECB52"
          ],
          "font": {
           "color": "#2a3f5f"
          },
          "geo": {
           "bgcolor": "white",
           "lakecolor": "white",
           "landcolor": "#E5ECF6",
           "showlakes": true,
           "showland": true,
           "subunitcolor": "white"
          },
          "hoverlabel": {
           "align": "left"
          },
          "hovermode": "closest",
          "mapbox": {
           "style": "light"
          },
          "paper_bgcolor": "white",
          "plot_bgcolor": "#E5ECF6",
          "polar": {
           "angularaxis": {
            "gridcolor": "white",
            "linecolor": "white",
            "ticks": ""
           },
           "bgcolor": "#E5ECF6",
           "radialaxis": {
            "gridcolor": "white",
            "linecolor": "white",
            "ticks": ""
           }
          },
          "scene": {
           "xaxis": {
            "backgroundcolor": "#E5ECF6",
            "gridcolor": "white",
            "gridwidth": 2,
            "linecolor": "white",
            "showbackground": true,
            "ticks": "",
            "zerolinecolor": "white"
           },
           "yaxis": {
            "backgroundcolor": "#E5ECF6",
            "gridcolor": "white",
            "gridwidth": 2,
            "linecolor": "white",
            "showbackground": true,
            "ticks": "",
            "zerolinecolor": "white"
           },
           "zaxis": {
            "backgroundcolor": "#E5ECF6",
            "gridcolor": "white",
            "gridwidth": 2,
            "linecolor": "white",
            "showbackground": true,
            "ticks": "",
            "zerolinecolor": "white"
           }
          },
          "shapedefaults": {
           "line": {
            "color": "#2a3f5f"
           }
          },
          "ternary": {
           "aaxis": {
            "gridcolor": "white",
            "linecolor": "white",
            "ticks": ""
           },
           "baxis": {
            "gridcolor": "white",
            "linecolor": "white",
            "ticks": ""
           },
           "bgcolor": "#E5ECF6",
           "caxis": {
            "gridcolor": "white",
            "linecolor": "white",
            "ticks": ""
           }
          },
          "title": {
           "x": 0.05
          },
          "xaxis": {
           "automargin": true,
           "gridcolor": "white",
           "linecolor": "white",
           "ticks": "",
           "title": {
            "standoff": 15
           },
           "zerolinecolor": "white",
           "zerolinewidth": 2
          },
          "yaxis": {
           "automargin": true,
           "gridcolor": "white",
           "linecolor": "white",
           "ticks": "",
           "title": {
            "standoff": 15
           },
           "zerolinecolor": "white",
           "zerolinewidth": 2
          }
         }
        },
        "title": {
         "text": "Confusion matrices",
         "x": 0.5
        },
        "xaxis": {
         "anchor": "y",
         "domain": [
          0,
          0.45
         ]
        },
        "xaxis2": {
         "anchor": "y2",
         "domain": [
          0.55,
          1
         ]
        },
        "yaxis": {
         "anchor": "x",
         "autorange": "reversed",
         "domain": [
          0,
          1
         ]
        },
        "yaxis2": {
         "anchor": "x2",
         "autorange": "reversed",
         "domain": [
          0,
          1
         ]
        }
       }
      }
     },
     "metadata": {},
     "output_type": "display_data"
    }
   ],
   "source": [
    "# Visualize confusion matrices\n",
    "import plotly.graph_objects as go\n",
    "from plotly.subplots import make_subplots\n",
    "cm_train = confusion_matrix(y_train, y_train_pred, normalize=True)\n",
    "cm_test = confusion_matrix(y_test, y_test_pred, normalize=True)\n",
    "\n",
    "fig = make_subplots(rows = 1, cols = 2, subplot_titles = (\"train\", \"test\"), \n",
    "                    x_title = 'Prediction', y_title = 'True label')\n",
    "fig.update_layout(\n",
    "        title = go.layout.Title(text = \"Confusion matrices\", x = 0.5))\n",
    "fig.update_yaxes(autorange='reversed')\n",
    "fig.add_trace(\n",
    "    go.Heatmap(\n",
    "        name = 'train',\n",
    "        x = ['Draw', 'Home', 'Away'], # put here the class labels\n",
    "        y = ['Draw', 'Home', 'Away'], \n",
    "        z = cm_train,\n",
    "        colorscale = 'gnbu',\n",
    "        zmin = 0,\n",
    "        zmax = max(cm_train.max(), cm_test.max())\n",
    "    ),\n",
    "    row = 1,\n",
    "    col = 1\n",
    ")  \n",
    "fig.add_trace(\n",
    "    go.Heatmap(\n",
    "        name = 'test',\n",
    "        x = ['Draw', 'Home', 'Away'], \n",
    "        y = ['Draw', 'Home', 'Away'], \n",
    "        z = cm_test,\n",
    "        colorscale = 'gnbu',\n",
    "        zmin = 0,\n",
    "        zmax = max(cm_train.max(), cm_test.max())\n",
    "    ),\n",
    "    row = 1,\n",
    "    col = 2\n",
    ")"
   ]
  },
  {
   "cell_type": "code",
   "execution_count": null,
   "metadata": {},
   "outputs": [],
   "source": []
  },
  {
   "cell_type": "code",
   "execution_count": 3,
   "metadata": {},
   "outputs": [
    {
     "name": "stdout",
     "output_type": "stream",
     "text": [
      "Automatically created module for IPython interactive environment\n"
     ]
    },
    {
     "data": {
      "image/png": "[encoded data removed]",
      "text/plain": [
       "<Figure size 432x288 with 1 Axes>"
      ]
     },
     "metadata": {
      "needs_background": "light"
     },
     "output_type": "display_data"
    },
    {
     "data": {
      "image/png": "[encoded data removed]",
      "text/plain": [
       "<Figure size 432x288 with 1 Axes>"
      ]
     },
     "metadata": {
      "needs_background": "light"
     },
     "output_type": "display_data"
    }
   ],
   "source": [
    "print(__doc__)\n",
    "\n",
    "import numpy as np\n",
    "import matplotlib.pyplot as plt\n",
    "from sklearn import svm, datasets\n",
    "from sklearn.metrics import roc_curve, auc\n",
    "#from sklearn.cross_validation import train_test_split\n",
    "from sklearn.preprocessing import label_binarize\n",
    "from sklearn.multiclass import OneVsRestClassifier\n",
    "from sklearn.linear_model import LogisticRegression\n",
    "\n",
    "X = df[[x for x in df.columns if x != 'result']]\n",
    "y = df['result']\n",
    "\n",
    "# Binarize the output\n",
    "y = label_binarize(y, classes=[0, 1, 2])\n",
    "n_classes = y.shape[1]\n",
    "\n",
    "# Add noisy features to make the problem harder\n",
    "random_state = np.random.RandomState(0)\n",
    "n_samples, n_features = X.shape\n",
    "X = np.c_[X, random_state.randn(n_samples, 200 * n_features)]\n",
    "\n",
    "# shuffle and split training and test sets\n",
    "X_train, X_test, y_train, y_test = train_test_split(X, y, test_size=.5,\n",
    "                                                    random_state=0)\n",
    "\n",
    "# Learn to predict each class against the other\n",
    "classifier = OneVsRestClassifier(LogisticRegression(class_weight='balanced', solver='liblinear'))\n",
    "y_score = classifier.fit(X_train, y_train).decision_function(X_test)\n",
    "\n",
    "# Compute ROC curve and ROC area for each class\n",
    "fpr = dict()\n",
    "tpr = dict()\n",
    "roc_auc = dict()\n",
    "for i in range(n_classes):\n",
    "    fpr[i], tpr[i], _ = roc_curve(y_test[:, i], y_score[:, i])\n",
    "    roc_auc[i] = auc(fpr[i], tpr[i])\n",
    "\n",
    "# Compute micro-average ROC curve and ROC area\n",
    "fpr[\"micro\"], tpr[\"micro\"], _ = roc_curve(y_test.ravel(), y_score.ravel())\n",
    "roc_auc[\"micro\"] = auc(fpr[\"micro\"], tpr[\"micro\"])\n",
    "\n",
    "# Plot of a ROC curve for a specific class\n",
    "plt.figure()\n",
    "plt.plot(fpr[2], tpr[2], label='ROC curve (area = %0.2f)' % roc_auc[2])\n",
    "plt.plot([0, 1], [0, 1], 'k--')\n",
    "plt.xlim([0.0, 1.0])\n",
    "plt.ylim([0.0, 1.05])\n",
    "plt.xlabel('False Positive Rate')\n",
    "plt.ylabel('True Positive Rate')\n",
    "plt.title('Receiver operating characteristic example')\n",
    "plt.legend(loc=\"lower right\")\n",
    "plt.show()\n",
    "\n",
    "# Plot ROC curve\n",
    "plt.figure()\n",
    "plt.plot(fpr[\"micro\"], tpr[\"micro\"],\n",
    "         label='micro-average ROC curve (area = {0:0.2f})'\n",
    "               ''.format(roc_auc[\"micro\"]))\n",
    "for i in range(n_classes):\n",
    "    plt.plot(fpr[i], tpr[i], label='ROC curve of class {0} (area = {1:0.2f})'\n",
    "                                   ''.format(i, roc_auc[i]))\n",
    "\n",
    "plt.plot([0, 1], [0, 1], 'k--')\n",
    "plt.xlim([0.0, 1.0])\n",
    "plt.ylim([0.0, 1.05])\n",
    "plt.xlabel('False Positive Rate')\n",
    "plt.ylabel('True Positive Rate')\n",
    "plt.title('Some extension of Receiver operating characteristic to multi-class')\n",
    "plt.legend(loc=\"lower right\")\n",
    "plt.show()\n"
   ]
  },
  {
   "cell_type": "code",
   "execution_count": null,
   "metadata": {},
   "outputs": [],
   "source": []
  }
 ],
 "metadata": {
  "interpreter": {
   "hash": "9f953290869b00660eb2e8d887269ddf657efb8ebdbdd772af8ef2de03e9ecdc"
  },
  "kernelspec": {
   "display_name": "Python 3.9.7 64-bit ('base': conda)",
   "language": "python",
   "name": "python3"
  },
  "language_info": {
   "codemirror_mode": {
    "name": "ipython",
    "version": 3
   },
   "file_extension": ".py",
   "mimetype": "text/x-python",
   "name": "python",
   "nbconvert_exporter": "python",
   "pygments_lexer": "ipython3",
   "version": "3.9.7"
  },
  "orig_nbformat": 4
 },
 "nbformat": 4,
 "nbformat_minor": 2
}
