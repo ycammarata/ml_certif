{
 "cells": [
  {
   "cell_type": "markdown",
   "metadata": {},
   "source": [
    "# Test your endpoint\n",
    "\n",
    "This notebook present some tests to assert your endpoint. Feel free to complete those tests."
   ]
  },
  {
   "cell_type": "code",
   "execution_count": 1,
   "metadata": {},
   "outputs": [],
   "source": [
    "import requests"
   ]
  },
  {
   "cell_type": "code",
   "execution_count": 2,
   "metadata": {},
   "outputs": [],
   "source": [
    "# We have put the localhost URL as default, feel free to change it\n",
    "url_index = \"https://prjapi.herokuapp.com/\"\n",
    "\n",
    "url_remote = \"https://prjapi.herokuapp.com/predict\"\n",
    "\n",
    "url_local = \"http://127.0.0.1:5000/predict\"\n",
    "\n",
    "url = url_remote\n"
   ]
  },
  {
   "cell_type": "code",
   "execution_count": 3,
   "metadata": {},
   "outputs": [],
   "source": [
    "# This a simple example of input\n",
    "input_simple = {\n",
    "    \"input\": [[7.0, 0.27, 0.36, 20.7, 0.045, 45.0, 170.0, 1.001, 3.0, 0.45, 8.8]]\n",
    "}"
   ]
  },
  {
   "cell_type": "code",
   "execution_count": 4,
   "metadata": {},
   "outputs": [
    {
     "name": "stdout",
     "output_type": "stream",
     "text": [
      "{'predict': '[6]'}\n"
     ]
    }
   ],
   "source": [
    "res = requests.post(url, json=input_simple)\n",
    "assert res.status_code == 200\n",
    "print(res.json())"
   ]
  },
  {
   "cell_type": "code",
   "execution_count": 5,
   "metadata": {},
   "outputs": [],
   "source": [
    "# This a example of input with several inputs\n",
    "input_multiple = {\n",
    "    \"input\": [[7.0, 0.27, 0.36, 20.7, 0.045, 45.0, 170.0, 1.001, 3.0, 0.45, 8.8],\n",
    "              [5.0, 0.98, 0.32, 18.9, 0.050, 75.0, 122.0, 0.401, 3.1, 0.21, 1.2]]\n",
    "}"
   ]
  },
  {
   "cell_type": "code",
   "execution_count": 6,
   "metadata": {},
   "outputs": [
    {
     "name": "stdout",
     "output_type": "stream",
     "text": [
      "{'predict': '[6 5]'}\n"
     ]
    }
   ],
   "source": [
    "res = requests.post(url, json=input_multiple)\n",
    "assert res.status_code == 200\n",
    "print(res.json())"
   ]
  },
  {
   "cell_type": "code",
   "execution_count": 1,
   "metadata": {},
   "outputs": [
    {
     "name": "stdout",
     "output_type": "stream",
     "text": [
      "HTTP/1.1 200 OK\n",
      "\u001b[1mConnection\u001b[0m: keep-alive\n",
      "\u001b[1mServer\u001b[0m: gunicorn\n",
      "\u001b[1mDate\u001b[0m: Thu, 27 Jan 2022 11:18:32 GMT\n",
      "\u001b[1mContent-Type\u001b[0m: application/json\n",
      "\u001b[1mContent-Length\u001b[0m: 18\n",
      "\u001b[1mVia\u001b[0m: 1.1 vegur\n",
      "\n",
      "{\"predict\":\"[6]\"}\n"
     ]
    }
   ],
   "source": [
    "!curl -i -H \"Content-Type: application/json\" -X POST -d \\\n",
    "    '{\"input\": [[7.0, 0.27, 0.36, 20.7, 0.045, 45.0, 170.0, 1.001, 3.0, 0.45, 8.8]]}' \\\n",
    "        https://prjapi.herokuapp.com/predict"
   ]
  },
  {
   "cell_type": "code",
   "execution_count": 2,
   "metadata": {},
   "outputs": [
    {
     "name": "stdout",
     "output_type": "stream",
     "text": [
      "HTTP/1.1 200 OK\n",
      "\u001b[1mConnection\u001b[0m: keep-alive\n",
      "\u001b[1mServer\u001b[0m: gunicorn\n",
      "\u001b[1mDate\u001b[0m: Thu, 27 Jan 2022 11:18:58 GMT\n",
      "\u001b[1mContent-Type\u001b[0m: application/json\n",
      "\u001b[1mContent-Length\u001b[0m: 20\n",
      "\u001b[1mVia\u001b[0m: 1.1 vegur\n",
      "\n",
      "{\"predict\":\"[6 5]\"}\n"
     ]
    }
   ],
   "source": [
    "!curl -i -H \"Content-Type: application/json\" -X POST -d \\\n",
    "    '{\"input\": [[7.0, 0.27, 0.36, 20.7, 0.045, 45.0, 170.0, 1.001, 3.0, 0.45, 8.8], [5.0, 0.98, 0.32, 18.9, 0.050, 75.0, 122.0, 0.401, 3.1, 0.21, 1.2]]}' \\\n",
    "        https://prjapi.herokuapp.com/predict"
   ]
  },
  {
   "cell_type": "code",
   "execution_count": null,
   "metadata": {},
   "outputs": [],
   "source": []
  }
 ],
 "metadata": {
  "kernelspec": {
   "display_name": "Python 3",
   "language": "python",
   "name": "python3"
  },
  "language_info": {
   "codemirror_mode": {
    "name": "ipython",
    "version": 3
   },
   "file_extension": ".py",
   "mimetype": "text/x-python",
   "name": "python",
   "nbconvert_exporter": "python",
   "pygments_lexer": "ipython3",
   "version": "3.9.7"
  }
 },
 "nbformat": 4,
 "nbformat_minor": 4
}
